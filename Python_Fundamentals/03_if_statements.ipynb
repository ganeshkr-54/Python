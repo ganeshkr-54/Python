{
 "cells": [
  {
   "cell_type": "markdown",
   "id": "62f0c67a",
   "metadata": {},
   "source": [
    "Q: Price of a house is $1M.\n",
    "If buyer has good credit, they need to put down payment 10% Otherwise\n",
    "they need to put down payment 20%\n",
    "Print the down payment"
   ]
  },
  {
   "cell_type": "code",
   "execution_count": 3,
   "id": "b3a08b6b",
   "metadata": {},
   "outputs": [
    {
     "name": "stdout",
     "output_type": "stream",
     "text": [
      "Your Down Payment is: 100000.0\n"
     ]
    }
   ],
   "source": [
    "price = 1000000\n",
    "good_credit = True\n",
    "\n",
    "if good_credit:\n",
    "    down_payment = 0.1 * price\n",
    "else: \n",
    "    down_payment = 0.2 * price\n",
    "\n",
    "print(f\"Your Down Payment is: {down_payment}\")\n",
    "\n",
    "\n"
   ]
  }
 ],
 "metadata": {
  "kernelspec": {
   "display_name": ".venv",
   "language": "python",
   "name": "python3"
  },
  "language_info": {
   "codemirror_mode": {
    "name": "ipython",
    "version": 3
   },
   "file_extension": ".py",
   "mimetype": "text/x-python",
   "name": "python",
   "nbconvert_exporter": "python",
   "pygments_lexer": "ipython3",
   "version": "3.13.5"
  }
 },
 "nbformat": 4,
 "nbformat_minor": 5
}
