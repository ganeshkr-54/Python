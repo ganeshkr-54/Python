{
 "cells": [
  {
   "cell_type": "markdown",
   "id": "194b1a8a",
   "metadata": {},
   "source": [
    "## Arithmetic Operations\n",
    "\n",
    "x = 10\n",
    "x = x+3 is same as x +=3 \n",
    "\n",
    "> Arithmetic Precedence\n",
    "\n",
    "![image](https://ateamtuition.com/wp-content/uploads/2022/09/Screen-Shot-2022-09-29-at-2.59.38-pm.png)\n",
    "\n",
    "> Functions\n",
    "1. round: decimal nums turns to numeric(eg: 4.7 -> 5)\n",
    "\n",
    "2. ebs: -ve nums to absolute values(eg: -4 -> 4)\n",
    "\n"
   ]
  },
  {
   "cell_type": "markdown",
   "id": "7b4a6bb1",
   "metadata": {},
   "source": [
    "## Math Module\n",
    "\n",
    "math.celi()\n",
    "\n",
    "math.floor()\n",
    "\n",
    "\" search for official doc to learn more \"\n"
   ]
  },
  {
   "cell_type": "code",
   "execution_count": null,
   "id": "b90acde6",
   "metadata": {},
   "outputs": [
    {
     "name": "stdout",
     "output_type": "stream",
     "text": [
      "list of random numbers: [7, 30, 80, 11, 70]\n",
      "list of square roots: [2.6457513110645907, 5.477225575051661, 8.94427190999916, 3.3166247903554, 8.366600265340756]\n"
     ]
    }
   ],
   "source": [
    "import math\n",
    "import random\n",
    "\n",
    "\n",
    "x = (random.sample(range(1,100), 5))\n",
    "\n",
    "print(f\"list of random numbers: {x}\")\n",
    "\n",
    "y = [math.sqrt(i) for i in x]\n",
    "print(f\"list of square roots: {y}\")\n"
   ]
  }
 ],
 "metadata": {
  "kernelspec": {
   "display_name": ".venv",
   "language": "python",
   "name": "python3"
  },
  "language_info": {
   "codemirror_mode": {
    "name": "ipython",
    "version": 3
   },
   "file_extension": ".py",
   "mimetype": "text/x-python",
   "name": "python",
   "nbconvert_exporter": "python",
   "pygments_lexer": "ipython3",
   "version": "3.13.5"
  }
 },
 "nbformat": 4,
 "nbformat_minor": 5
}
