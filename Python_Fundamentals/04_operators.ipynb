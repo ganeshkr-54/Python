{
 "cells": [
  {
   "cell_type": "markdown",
   "id": "5ad86e67",
   "metadata": {},
   "source": [
    "> Operators\n",
    "1. AND\n",
    "2. OR\n",
    "3. NOT\n",
    "4. Comparision(==, !=, >, <, >=, <=)"
   ]
  },
  {
   "cell_type": "markdown",
   "id": "6193d4b9",
   "metadata": {},
   "source": [
    "Q: if name is less than 3 characters long name must be at least 3 characters otherwise if it's more than 50 characters long name can be a maximum of 50 characters otherwise\n",
    "name looks good!"
   ]
  },
  {
   "cell_type": "code",
   "execution_count": 4,
   "id": "fd96b0c6",
   "metadata": {},
   "outputs": [
    {
     "name": "stdout",
     "output_type": "stream",
     "text": [
      "Thank you!!\n"
     ]
    }
   ],
   "source": [
    "name = input(\"please enter your name\")\n",
    "\n",
    "if len(name) < 3:\n",
    "    responds = (\"Name should not be less than 3 characters\")\n",
    "elif len(name) > 50:\n",
    "    responds = (\"Name should not be greater than 50 characters\")\n",
    "else:   \n",
    "    responds = (\"Thank you!!\")\n",
    "\n",
    "print(responds)"
   ]
  },
  {
   "cell_type": "code",
   "execution_count": null,
   "id": "8cf6afc5",
   "metadata": {},
   "outputs": [
    {
     "name": "stdout",
     "output_type": "stream",
     "text": [
      "Invalid Input !!\n",
      "160.0\n"
     ]
    }
   ],
   "source": [
    "your_weight = float(input(\"What is your Weight: \"))\n",
    "weight_unit = input(\"(L)bs or (K)g: \")\n",
    "\n",
    "if weight_unit == \"l\":\n",
    "    your_weight = your_weight * 0.45\n",
    "elif weight_unit == \"k\":\n",
    "    your_weight = your_weight * 2.204\n",
    "else:\n",
    "    print(\"Invalid Input !! {}\")\n",
    "\n",
    "print(your_weight)\n"
   ]
  }
 ],
 "metadata": {
  "kernelspec": {
   "display_name": ".venv",
   "language": "python",
   "name": "python3"
  },
  "language_info": {
   "codemirror_mode": {
    "name": "ipython",
    "version": 3
   },
   "file_extension": ".py",
   "mimetype": "text/x-python",
   "name": "python",
   "nbconvert_exporter": "python",
   "pygments_lexer": "ipython3",
   "version": "3.13.5"
  }
 },
 "nbformat": 4,
 "nbformat_minor": 5
}
