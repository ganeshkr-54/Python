{
 "cells": [
  {
   "cell_type": "markdown",
   "id": "5127b944",
   "metadata": {},
   "source": [
    "> While Loop\n",
    "\n",
    "The given function will keep running as long as while loop condition is ture.\n",
    "\n"
   ]
  },
  {
   "cell_type": "code",
   "execution_count": 5,
   "id": "8b345e54",
   "metadata": {},
   "outputs": [
    {
     "name": "stdout",
     "output_type": "stream",
     "text": [
      "1\n",
      "2\n",
      "3\n",
      "4\n",
      "5\n",
      "Done\n"
     ]
    }
   ],
   "source": [
    "i=1\n",
    "\n",
    "while i<=5:\n",
    "    print(i)\n",
    "    i+=1\n",
    "print(\"Done\")"
   ]
  },
  {
   "cell_type": "markdown",
   "id": "3700d522",
   "metadata": {},
   "source": [
    "### Guess Game"
   ]
  },
  {
   "cell_type": "code",
   "execution_count": 5,
   "id": "b408d9b8",
   "metadata": {},
   "outputs": [
    {
     "name": "stdout",
     "output_type": "stream",
     "text": [
      "you guessed the wrong number \n"
     ]
    }
   ],
   "source": [
    "import random\n",
    "guess_count = 0\n",
    "guess_limit = 3\n",
    "#guess_number = 9\n",
    "random.randrange(1,9)\n",
    "\n",
    "while guess_count < guess_limit:\n",
    "    guess = int(input(\"please guess the number: \"))\n",
    "    guess_count += 1\n",
    "    if guess == random.randrange(1,9):\n",
    "        print(\"Great!! you guessed the correct number\")\n",
    "        break\n",
    "else:\n",
    "    print(\"you guessed the wrong number \")\n",
    "\n"
   ]
  },
  {
   "cell_type": "markdown",
   "id": "6baa51aa",
   "metadata": {},
   "source": [
    "### Car Game"
   ]
  },
  {
   "cell_type": "code",
   "execution_count": null,
   "id": "2263ab99",
   "metadata": {},
   "outputs": [
    {
     "name": "stdout",
     "output_type": "stream",
     "text": [
      "you clicked worng, for more info click help\n"
     ]
    }
   ],
   "source": [
    "Button = input(\"please select the option to start the game!!: \")\n",
    "\n",
    "\n",
    "if Button.lower() == \"help\":\n",
    "    print(\"start - To start the Car\")\n",
    "    print(\"stop - To stop the car\")\n",
    "    print(\"quit - To end the game\")\n",
    "elif Button.lower() == \"start\":\n",
    "    print(\"Car is started ......\")\n",
    "elif Button.lower() == \"stop\":\n",
    "    print(\"Car has stopped\")\n",
    "elif Button.lower() == \"quit\":\n",
    "    print(\" Game is completed\")\n",
    "else:\n",
    "    print(\"you clicked worng, for more info click help\")"
   ]
  }
 ],
 "metadata": {
  "kernelspec": {
   "display_name": ".venv",
   "language": "python",
   "name": "python3"
  },
  "language_info": {
   "codemirror_mode": {
    "name": "ipython",
    "version": 3
   },
   "file_extension": ".py",
   "mimetype": "text/x-python",
   "name": "python",
   "nbconvert_exporter": "python",
   "pygments_lexer": "ipython3",
   "version": "3.13.5"
  }
 },
 "nbformat": 4,
 "nbformat_minor": 5
}
