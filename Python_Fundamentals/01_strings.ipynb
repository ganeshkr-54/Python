{
 "cells": [
  {
   "cell_type": "code",
   "execution_count": 3,
   "id": "04bf2d48",
   "metadata": {},
   "outputs": [
    {
     "name": "stdout",
     "output_type": "stream",
     "text": [
      "The\n"
     ]
    }
   ],
   "source": [
    "story = (\"There is huge forest\")\n",
    "print(story[0:3])"
   ]
  },
  {
   "cell_type": "markdown",
   "id": "eeff919b",
   "metadata": {},
   "source": [
    "# Formatted String\n",
    "\n",
    "> Helps to dynamically declare variables.\n"
   ]
  },
  {
   "cell_type": "code",
   "execution_count": 1,
   "id": "deeb6923",
   "metadata": {},
   "outputs": [
    {
     "name": "stdout",
     "output_type": "stream",
     "text": [
      " I like playing cricket \n"
     ]
    }
   ],
   "source": [
    "habit = \"playing\"\n",
    "game = \"cricket\"\n",
    "mes = f\" I like {habit} {game} \"\n",
    "print(mes)\n"
   ]
  },
  {
   "cell_type": "markdown",
   "id": "f4c8c917",
   "metadata": {},
   "source": [
    "# String Methonds\n",
    "> There are multiple methods to dynamically change strings\n",
    "1. len(): To find length of a string\n",
    "2. .upper(): To change characters to upper format\n",
    "3. .lower(): To change characters to lower format\n",
    "4. .find(): To find index of character\n",
    "5. in: To find specific character in the string, returns a boolen value."
   ]
  },
  {
   "cell_type": "code",
   "execution_count": null,
   "id": "f014a5c8",
   "metadata": {},
   "outputs": [
    {
     "name": "stdout",
     "output_type": "stream",
     "text": [
      "20\n",
      "I AM STUDYING PYTHON\n",
      "i am studying python\n",
      "6\n",
      "True\n"
     ]
    }
   ],
   "source": [
    "subject = \"I Am Studying Python\"\n",
    "print(len(subject))\n",
    "print(subject.upper())\n",
    "print(subject.lower())\n",
    "print(subject.find('t'))\n",
    "print(\"Am\" in subject)\n"
   ]
  }
 ],
 "metadata": {
  "kernelspec": {
   "display_name": ".venv",
   "language": "python",
   "name": "python3"
  },
  "language_info": {
   "codemirror_mode": {
    "name": "ipython",
    "version": 3
   },
   "file_extension": ".py",
   "mimetype": "text/x-python",
   "name": "python",
   "nbconvert_exporter": "python",
   "pygments_lexer": "ipython3",
   "version": "3.13.5"
  }
 },
 "nbformat": 4,
 "nbformat_minor": 5
}
